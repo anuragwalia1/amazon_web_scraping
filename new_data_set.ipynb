{
 "cells": [
  {
   "cell_type": "code",
   "execution_count": 21,
   "id": "b3dab684-b9ca-4c91-8569-2f1ff7a6524b",
   "metadata": {},
   "outputs": [],
   "source": [
    "from bs4 import BeautifulSoup\n",
    "import requests\n",
    "import pandas as pd\n",
    "import numpy as np"
   ]
  },
  {
   "cell_type": "code",
   "execution_count": 22,
   "id": "e4d9e5f5-6350-4105-83d9-da3bb11518bc",
   "metadata": {},
   "outputs": [],
   "source": [
    "def get_title(soup):\n",
    "\n",
    "    try:\n",
    "        \n",
    "        title = soup.find(\"span\", attrs={\"id\":'productTitle'})\n",
    "        title_value = title.text\n",
    "        title_string = title_value.strip()\n",
    "    except AttributeError:\n",
    "        title_string = \"\"\n",
    "    return title_string"
   ]
  },
  {
   "cell_type": "code",
   "execution_count": 23,
   "id": "df55c141-7b56-4553-b94c-c605ed872782",
   "metadata": {},
   "outputs": [],
   "source": [
    "def get_price(soup):\n",
    "    try:\n",
    "        price = soup.find(\"span\", attrs={'id':'priceblock_ourprice'}).string.strip()\n",
    "    except AttributeError:\n",
    "        try:\n",
    "            price = soup.find(\"span\", attrs={'id':'priceblock_dealprice'}).string.strip()\n",
    "\n",
    "        except:\n",
    "            price = \"\"\n",
    "    return price"
   ]
  },
  {
   "cell_type": "code",
   "execution_count": 24,
   "id": "f2b634f4-97c5-4097-bc1c-e43515ab11a4",
   "metadata": {},
   "outputs": [],
   "source": [
    "def get_review_count(soup):\n",
    "    try:\n",
    "        review_count = soup.find(\"span\", attrs={'id':'acrCustomerReviewText'}).string.strip()\n",
    "\n",
    "    except AttributeError:\n",
    "        review_count = \"\"\t\n",
    "\n",
    "    return review_count"
   ]
  },
  {
   "cell_type": "code",
   "execution_count": 25,
   "id": "00c40243-81e4-489e-a06d-3c7f4068ae0c",
   "metadata": {},
   "outputs": [],
   "source": [
    "def get_rating(soup):\n",
    "\n",
    "    try:\n",
    "        rating = soup.find(\"i\", attrs={'class':'a-icon a-icon-star a-star-4-5'}).string.strip()\n",
    "    \n",
    "    except AttributeError:\n",
    "        try:\n",
    "            rating = soup.find(\"span\", attrs={'class':'a-icon-alt'}).string.strip()\n",
    "        except:\n",
    "            rating = \"\"\t\n",
    "\n",
    "    return rating"
   ]
  },
  {
   "cell_type": "code",
   "execution_count": 26,
   "id": "9b6182d1-29b6-42da-a28d-4207d26bc92c",
   "metadata": {},
   "outputs": [],
   "source": [
    "def get_material_details(soup):\n",
    "\n",
    "    try:\n",
    "        material = soup.find(\"span\", attrs={'class': 'material-details-class'}).get_text(strip=True)\n",
    "    except AttributeError:\n",
    "        try:\n",
    "            material = soup.find(\"div\", attrs={'class': 'alternative-material-details-class'}).get_text(strip=True)\n",
    "        except AttributeError:\n",
    "            material = \"\""
   ]
  },
  {
   "cell_type": "code",
   "execution_count": 27,
   "id": "6fa596b8-3351-4ec6-8286-31eddd6bf15b",
   "metadata": {},
   "outputs": [],
   "source": [
    "def get_pattern(soup):\n",
    "\n",
    "    try:\n",
    "        pattern = soup.find(\"span\", string=\"Pattern:\").find_next_sibling().get_text(strip=True)\n",
    "    except AttributeError:\n",
    "        try:\n",
    "            pattern = soup.find(\"div\", string=\"Pattern:\").find_next_sibling().get_text(strip=True)\n",
    "        except AttributeError:\n",
    "            pattern = \"\"\n",
    "\n",
    "    return pattern\n"
   ]
  },
  {
   "cell_type": "code",
   "execution_count": 28,
   "id": "6803e793-cc3b-48f4-81db-d97381548fd7",
   "metadata": {},
   "outputs": [],
   "source": [
    "def get_fit(soup):\n",
    "\n",
    "    try:\n",
    "        fit = soup.find(\"span\", string=\"Fit:\").find_next_sibling().get_text(strip=True)\n",
    "    except AttributeError:\n",
    "        try:\n",
    "            fit = soup.find(\"div\", string=\"Fit:\").find_next_sibling().get_text(strip=True)\n",
    "        except AttributeError:\n",
    "            fit = \"\"\n",
    "\n",
    "    return fit\n"
   ]
  },
  {
   "cell_type": "code",
   "execution_count": 29,
   "id": "1d1f7e6f-d3cb-481c-ad00-847ad73a4b4e",
   "metadata": {},
   "outputs": [],
   "source": [
    "def get_collar(soup):\n",
    "\n",
    "    try:\n",
    "        collar = soup.find(\"span\", string=\"Collar:\").find_next_sibling().get_text(strip=True)\n",
    "    except AttributeError:\n",
    "        try:\n",
    "            collar = soup.find(\"div\", string=\"Collar:\").find_next_sibling().get_text(strip=True)\n",
    "        except AttributeError:\n",
    "            collar = \"\"\n",
    "\n",
    "    return collar\n"
   ]
  },
  {
   "cell_type": "code",
   "execution_count": 30,
   "id": "b6d9db4f-f9bb-4712-8d1d-79fce3f4d847",
   "metadata": {},
   "outputs": [],
   "source": [
    "if __name__ == '__main__':\n",
    " \n",
    "    HEADERS = ({'User-Agent':'Mozilla/5.0 (Windows NT 10.0; Win64; x64) AppleWebKit/537.36 (KHTML, like Gecko) Chrome/126.0.0.0 Safari/537.36','Accept-Language': 'en-US, en;q=0.5'})\n",
    "\n",
    "    URL = \"https://www.amazon.in/Lymio-T-Shirt-Plain-Shirt-Polo-18-21/dp/B0CZ47S9CV/ref=sr_1_5?crid=1JXOQLAX6GKJF&dib=eyJ2IjoiMSJ9.txuHXrWBJyZD7GA5p3lTqg6ROPU5GVBnC6_o5xi-_rGRUkNlFXKpIEcbvNvo9m2BY0kOzMdRI62ZZyYwZA0pI9L7ud7vyX2rsOvfO-yTHRvN-hWRULXltlS6MdZ7S3a5BNRXJBQEA4A91bCIQYqeBEHbZbTgw1UTHz-pGm31eQIv9sn_1wjl6bsvCeWc3GsKtjO6FLHBvV-kJPcB3aKPySpTG2f6PULyIvFQepan4MFXM4H_7wgMPERiDG5AZt3WJ3dI7CRMd9YiExFWbpaAQh_9g2cR-1CUhtycpJt69MY.qRHZoH6qvgpzGLd6vqRDLP7y5NM1nyLlAplf03NXVao&dib_tag=se&keywords=t+shirt+for+men&qid=1722055940&sprefix=t+%2Caps%2C218&sr=8-5\"\n",
    "\n",
    "    webpage = requests.get(URL, headers=HEADERS)\n",
    "\n",
    "    soup = BeautifulSoup(webpage.content, \"html.parser\")\n",
    "\n",
    "    links = soup.find_all(\"a\", attrs={'class':'a-link-normal s-no-outline'})\n",
    "\n",
    "    links_list = []\n",
    "\n",
    "    for link in links:\n",
    "            links_list.append(link.get('href'))\n",
    "\n",
    "    d = {\"title\":[], \"price\":[], \"rating\":[], \"reviews\":[],\"availability\":[]}\n",
    "\n",
    "    for link in links_list:\n",
    "        new_webpage = requests.get(\"https://www.amazon.in\" + link, headers=HEADERS)\n",
    "\n",
    "        new_soup = BeautifulSoup(new_webpage.content, \"html.parser\")\n",
    "\n",
    "        d['title'].append(get_title(new_soup))\n",
    "        d['price'].append(get_price(new_soup))\n",
    "        d['rating'].append(get_rating(new_soup))\n",
    "        d['reviews'].append(get_review_count(new_soup))\n",
    "        d['material'].append(get_material_details(new_soup))\n",
    "        d['pattern'].append(get_pattern(new_soup))\n",
    "        d['fit'].append(get_fit(new_soup))\n",
    "        d['get_collar'].append(get_collar(new_soup))\n",
    "\n",
    "    \n",
    "    amazon_df = pd.DataFrame.from_dict(d)\n",
    "    #amazon_df['title'].replace('', np.nan, inplace=True)\n",
    "    #amazon_df = amazon_df.dropna(subset=['title'])\n",
    "    #amazon_df.to_csv(\"amazon_data.csv\", header=True, index=False)"
   ]
  },
  {
   "cell_type": "code",
   "execution_count": 31,
   "id": "00a9367e-2999-40bd-9451-ab9aa718774f",
   "metadata": {},
   "outputs": [
    {
     "data": {
      "text/html": [
       "<div>\n",
       "<style scoped>\n",
       "    .dataframe tbody tr th:only-of-type {\n",
       "        vertical-align: middle;\n",
       "    }\n",
       "\n",
       "    .dataframe tbody tr th {\n",
       "        vertical-align: top;\n",
       "    }\n",
       "\n",
       "    .dataframe thead th {\n",
       "        text-align: right;\n",
       "    }\n",
       "</style>\n",
       "<table border=\"1\" class=\"dataframe\">\n",
       "  <thead>\n",
       "    <tr style=\"text-align: right;\">\n",
       "      <th></th>\n",
       "      <th>title</th>\n",
       "      <th>price</th>\n",
       "      <th>rating</th>\n",
       "      <th>reviews</th>\n",
       "      <th>availability</th>\n",
       "    </tr>\n",
       "  </thead>\n",
       "  <tbody>\n",
       "  </tbody>\n",
       "</table>\n",
       "</div>"
      ],
      "text/plain": [
       "Empty DataFrame\n",
       "Columns: [title, price, rating, reviews, availability]\n",
       "Index: []"
      ]
     },
     "execution_count": 31,
     "metadata": {},
     "output_type": "execute_result"
    }
   ],
   "source": [
    "amazon_df"
   ]
  }
 ],
 "metadata": {
  "kernelspec": {
   "display_name": "Python 3 (ipykernel)",
   "language": "python",
   "name": "python3"
  },
  "language_info": {
   "codemirror_mode": {
    "name": "ipython",
    "version": 3
   },
   "file_extension": ".py",
   "mimetype": "text/x-python",
   "name": "python",
   "nbconvert_exporter": "python",
   "pygments_lexer": "ipython3",
   "version": "3.11.4"
  }
 },
 "nbformat": 4,
 "nbformat_minor": 5
}
